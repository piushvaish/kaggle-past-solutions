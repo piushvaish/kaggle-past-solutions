{
 "cells": [
  {
   "cell_type": "code",
   "execution_count": 1,
   "metadata": {
    "ExecuteTime": {
     "end_time": "2019-03-18T01:45:03.682112Z",
     "start_time": "2019-03-18T01:45:03.634595Z"
    },
    "collapsed": true
   },
   "outputs": [],
   "source": [
    "import requests\n",
    "import yaml"
   ]
  },
  {
   "cell_type": "markdown",
   "metadata": {},
   "source": [
    "This is a work in progress to add the latest competitions semi-automatically.\n",
    "TODO:\n",
    "- [ ] Concat metrics + unique\n",
    "- [ ] Add categories\n",
    "- [ ] Add solutions missing solutions"
   ]
  },
  {
   "cell_type": "code",
   "execution_count": 3,
   "metadata": {
    "ExecuteTime": {
     "end_time": "2019-03-18T01:47:13.936949Z",
     "start_time": "2019-03-18T01:47:13.474151Z"
    }
   },
   "outputs": [],
   "source": [
    "COMPETITIONS_PATH = './competitions.yaml'\n",
    "with open(COMPETITIONS_PATH, 'r') as f:\n",
    "    saved_competitions = yaml.load(f)"
   ]
  },
  {
   "cell_type": "code",
   "execution_count": 4,
   "metadata": {
    "ExecuteTime": {
     "end_time": "2019-03-18T01:50:03.218067Z",
     "start_time": "2019-03-18T01:49:57.952202Z"
    }
   },
   "outputs": [
    {
     "name": "stdout",
     "output_type": "stream",
     "text": [
      "0\n",
      "1\n",
      "2\n",
      "3\n",
      "4\n",
      "5\n",
      "6\n",
      "7\n",
      "8\n",
      "9\n",
      "10\n"
     ]
    }
   ],
   "source": [
    "i = 0\n",
    "all_competitions = []\n",
    "while True:\n",
    "    base_url = 'https://www.kaggle.com/competitions.json?sortBy=latestDeadline&group=general&page={}&pageSize=20&category=featured'.format(i)\n",
    "    i += 1\n",
    "\n",
    "    r = requests.get(base_url)\n",
    "    competitions = r.json()['pagedCompetitionGroup']['competitions']\n",
    "    all_competitions += competitions\n",
    "    if len(competitions) == 0:\n",
    "        break"
   ]
  },
  {
   "cell_type": "code",
   "execution_count": 14,
   "metadata": {
    "ExecuteTime": {
     "end_time": "2019-03-18T01:59:10.388205Z",
     "start_time": "2019-03-18T01:59:10.125910Z"
    },
    "collapsed": true
   },
   "outputs": [],
   "source": [
    "\n",
    "with open(COMPETITIONS_PATH, 'w') as f:\n",
    "    yaml.dump(saved_competitions, f, default_flow_style=False)"
   ]
  },
  {
   "cell_type": "code",
   "execution_count": null,
   "metadata": {
    "ExecuteTime": {
     "end_time": "2018-03-20T12:25:19.697724Z",
     "start_time": "2018-03-20T12:25:19.695432Z"
    },
    "collapsed": true
   },
   "outputs": [],
   "source": [
    "keys = ['competitionId', 'competitionName', 'competitionTitle', 'competitionDescription', 'competitionUrl', 'coverImageUrl', 'thumbnailImageUrl', 'deadline', \n",
    "        'rewardQuantity', 'rewardTypeName', 'organizationName', 'organizationUrl', 'organizationAvatarUrl', 'hostSegment',  'evaluationMetric',]\n",
    "\n",
    "to_print = []\n",
    "for competition in competitions:\n",
    "    to_print.append({k:competition[k] for k in keys})\n",
    "print(yaml.safe_dump(to_print, default_flow_style=False))"
   ]
  }
 ],
 "metadata": {
  "kernelspec": {
   "display_name": "Python 3",
   "language": "python",
   "name": "python3"
  },
  "language_info": {
   "codemirror_mode": {
    "name": "ipython",
    "version": 3
   },
   "file_extension": ".py",
   "mimetype": "text/x-python",
   "name": "python",
   "nbconvert_exporter": "python",
   "pygments_lexer": "ipython3",
   "version": "3.6.6"
  }
 },
 "nbformat": 4,
 "nbformat_minor": 2
}
